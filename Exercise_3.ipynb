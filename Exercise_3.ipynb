{
 "cells": [
  {
   "cell_type": "markdown",
   "metadata": {},
   "source": [
    "# Sheet 3 - Practical Exercise"
   ]
  },
  {
   "cell_type": "code",
   "execution_count": 62,
   "metadata": {},
   "outputs": [
    {
     "name": "stdout",
     "output_type": "stream",
     "text": [
      "   sofifa_id                                         player_url  \\\n",
      "0     158023  https://sofifa.com/player/158023/lionel-messi/...   \n",
      "1      20801  https://sofifa.com/player/20801/c-ronaldo-dos-...   \n",
      "2     190871  https://sofifa.com/player/190871/neymar-da-sil...   \n",
      "3     200389  https://sofifa.com/player/200389/jan-oblak/20/...   \n",
      "4     183277  https://sofifa.com/player/183277/eden-hazard/2...   \n",
      "\n",
      "          short_name                            long_name  age         dob  \\\n",
      "0           L. Messi       Lionel Andrés Messi Cuccittini   32  1987-06-24   \n",
      "1  Cristiano Ronaldo  Cristiano Ronaldo dos Santos Aveiro   34  1985-02-05   \n",
      "2          Neymar Jr        Neymar da Silva Santos Junior   27  1992-02-05   \n",
      "3           J. Oblak                            Jan Oblak   26  1993-01-07   \n",
      "4          E. Hazard                          Eden Hazard   28  1991-01-07   \n",
      "\n",
      "   height_cm  weight_kg nationality                 club  ...   lwb   ldm  \\\n",
      "0        170         72   Argentina         FC Barcelona  ...  68+2  66+2   \n",
      "1        187         83    Portugal             Juventus  ...  65+3  61+3   \n",
      "2        175         68      Brazil  Paris Saint-Germain  ...  66+3  61+3   \n",
      "3        188         87    Slovenia      Atlético Madrid  ...   NaN   NaN   \n",
      "4        175         74     Belgium          Real Madrid  ...  66+3  63+3   \n",
      "\n",
      "    cdm   rdm   rwb    lb   lcb    cb   rcb    rb  \n",
      "0  66+2  66+2  68+2  63+2  52+2  52+2  52+2  63+2  \n",
      "1  61+3  61+3  65+3  61+3  53+3  53+3  53+3  61+3  \n",
      "2  61+3  61+3  66+3  61+3  46+3  46+3  46+3  61+3  \n",
      "3   NaN   NaN   NaN   NaN   NaN   NaN   NaN   NaN  \n",
      "4  63+3  63+3  66+3  61+3  49+3  49+3  49+3  61+3  \n",
      "\n",
      "[5 rows x 104 columns]\n"
     ]
    }
   ],
   "source": [
    "#Import packages and Dataset\n",
    "import numpy as np\n",
    "import pandas as pd\n",
    "\n",
    "fifa20 = pd.read_csv(\"fifa_20.csv\")#Change path according to your files\n",
    "\n",
    "print(fifa20.head())"
   ]
  },
  {
   "cell_type": "markdown",
   "metadata": {},
   "source": [
    "Take the following SQL-Queries and use Pandas to achieve the same result."
   ]
  },
  {
   "cell_type": "markdown",
   "metadata": {},
   "source": [
    "### First Query\n",
    "```sql\n",
    "SELECT short_name, overall, value_eur, wage_eur \n",
    "FROM fifa_20 \n",
    "WHERE overall > 80 and club = 'Borussia Dortmund'\n",
    "``` "
   ]
  },
  {
   "cell_type": "code",
   "execution_count": 28,
   "metadata": {},
   "outputs": [
    {
     "name": "stdout",
     "output_type": "stream",
     "text": [
      "     short_name  overall  value_eur  wage_eur\n",
      "37      M. Reus       88   56000000    170000\n",
      "49   M. Hummels       87   41000000    130000\n",
      "88     R. Bürki       85   32000000     92000\n",
      "102   A. Witsel       85   31500000    110000\n",
      "108   J. Sancho       84   44500000     61000\n"
     ]
    }
   ],
   "source": [
    "#Recreate the first query with pandas\n",
    "\n",
    "df = fifa20.loc[(fifa20['overall'] >= 80)  & (fifa20['club'] == 'Borussia Dortmund')]\n",
    "df = df[['short_name', 'overall', 'value_eur', 'wage_eur']]\n",
    "\n",
    "print(df.head())"
   ]
  },
  {
   "cell_type": "markdown",
   "metadata": {},
   "source": [
    "### Second Query\n",
    "```sql\n",
    "SELECT short_name, overall \n",
    "FROM fifa_20 \n",
    "WHERE club in ('Borussia Dortmund','FC Bayern München') and nationality = 'France'\n",
    "``` "
   ]
  },
  {
   "cell_type": "code",
   "execution_count": 64,
   "metadata": {},
   "outputs": [
    {
     "name": "stdout",
     "output_type": "stream",
     "text": [
      "         short_name  overall\n",
      "114    L. Hernández       84\n",
      "119        K. Coman       84\n",
      "166      C. Tolisso       83\n",
      "588      D. Zagadou       79\n",
      "597       B. Pavard       79\n",
      "3302    M. Cuisance       72\n",
      "15328   K. Bafounta       59\n"
     ]
    }
   ],
   "source": [
    "#Recreate the second query with pandas\n",
    "\n",
    "df = fifa20.loc[(fifa20['nationality'] == 'France')  & ((fifa20['club'] == 'Borussia Dortmund')|(fifa20['club'] == 'FC Bayern München'))]\n",
    "df = df[['short_name', 'overall']]\n",
    "\n",
    "print(df)"
   ]
  },
  {
   "cell_type": "markdown",
   "metadata": {},
   "source": [
    "### Third Query\n",
    "```sql\n",
    "SELECT nationality, count(*) \n",
    "FROM fifa_20 \n",
    "GROUP BY nationality \n",
    "ORDER BY count\n",
    "``` "
   ]
  },
  {
   "cell_type": "code",
   "execution_count": 65,
   "metadata": {},
   "outputs": [
    {
     "ename": "NameError",
     "evalue": "name 'TRUE' is not defined",
     "output_type": "error",
     "traceback": [
      "\u001b[1;31m---------------------------------------------------------------------------\u001b[0m",
      "\u001b[1;31mNameError\u001b[0m                                 Traceback (most recent call last)",
      "\u001b[1;32m<ipython-input-65-e9b1f359eb8f>\u001b[0m in \u001b[0;36m<module>\u001b[1;34m\u001b[0m\n\u001b[0;32m      1\u001b[0m \u001b[1;31m#Recreate the third query with pandas\u001b[0m\u001b[1;33m\u001b[0m\u001b[1;33m\u001b[0m\u001b[1;33m\u001b[0m\u001b[0m\n\u001b[0;32m      2\u001b[0m \u001b[1;33m\u001b[0m\u001b[0m\n\u001b[1;32m----> 3\u001b[1;33m \u001b[0mdf\u001b[0m \u001b[1;33m=\u001b[0m \u001b[0mfifa20\u001b[0m\u001b[1;33m[\u001b[0m\u001b[1;34m'nationality'\u001b[0m\u001b[1;33m]\u001b[0m\u001b[1;33m.\u001b[0m\u001b[0mvalue_counts\u001b[0m\u001b[1;33m(\u001b[0m\u001b[1;33m)\u001b[0m\u001b[1;33m.\u001b[0m\u001b[0msort_values\u001b[0m\u001b[1;33m(\u001b[0m\u001b[0mascending\u001b[0m \u001b[1;33m=\u001b[0m \u001b[0mTRUE\u001b[0m\u001b[1;33m)\u001b[0m\u001b[1;33m\u001b[0m\u001b[1;33m\u001b[0m\u001b[0m\n\u001b[0m\u001b[0;32m      4\u001b[0m \u001b[1;33m\u001b[0m\u001b[0m\n\u001b[0;32m      5\u001b[0m \u001b[1;33m\u001b[0m\u001b[0m\n",
      "\u001b[1;31mNameError\u001b[0m: name 'TRUE' is not defined"
     ]
    }
   ],
   "source": [
    "#Recreate the third query with pandas\n",
    "\n",
    "df = fifa20['nationality'].value_counts().sort_values(ascending = TRUE)\n",
    "\n",
    "\n",
    "print(df)"
   ]
  },
  {
   "cell_type": "markdown",
   "metadata": {},
   "source": [
    "### Fourth Query\n",
    "```sql\n",
    "SELECT club, count(*) \n",
    "FROM fifa20 \n",
    "WHERE potential > 85 \n",
    "GROUP BY club having count(*) > 10\n",
    "ORDER BY count(*) desc\n",
    "``` "
   ]
  },
  {
   "cell_type": "code",
   "execution_count": 72,
   "metadata": {},
   "outputs": [
    {
     "name": "stdout",
     "output_type": "stream",
     "text": [
      "Norwich City              33\n",
      "Lecce                     33\n",
      "Sheffield United          33\n",
      "Brighton & Hove Albion    33\n",
      "RB Leipzig                33\n",
      "                          ..\n",
      "Melbourne Victory         19\n",
      "Egypt                     17\n",
      "Hungary                   12\n",
      "South Africa              12\n",
      "Iceland                   11\n",
      "Name: club, Length: 668, dtype: int64\n"
     ]
    }
   ],
   "source": [
    "#Recreate the fourth query with pandas\n",
    "\n",
    "df = fifa20.loc[(fifa20['potential'] > 85)]\n",
    "df = df['club'].value_counts()\n",
    "df = df[df > 10]\n",
    "\n",
    "print(df)\n"
   ]
  },
  {
   "cell_type": "markdown",
   "metadata": {},
   "source": [
    "### Fifth Query\n",
    "For the last query we create two additional dataframes that you have to join"
   ]
  },
  {
   "cell_type": "code",
   "execution_count": 53,
   "metadata": {},
   "outputs": [],
   "source": [
    "#Do NOT change this code \n",
    "player_values = fifa20[['short_name','club','age','height_cm','weight_kg']]\n",
    "fifa_club = fifa20[['short_name','club','overall','potential']]"
   ]
  },
  {
   "cell_type": "markdown",
   "metadata": {},
   "source": [
    "```sql\n",
    "SELECT short_name, age, overall \n",
    "FROM player_values JOIN fifa_club on fifa_club.short_name = player_values.short_name\n",
    "WHERE fifa_club.club == 'Borussia Dortmund'\n",
    "``` "
   ]
  },
  {
   "cell_type": "code",
   "execution_count": 66,
   "metadata": {},
   "outputs": [
    {
     "name": "stdout",
     "output_type": "stream",
     "text": [
      "        short_name  age  overall\n",
      "0          M. Reus   30       88\n",
      "1       M. Hummels   30       87\n",
      "2         R. Bürki   28       85\n",
      "3        A. Witsel   30       85\n",
      "4        J. Sancho   19       84\n",
      "5        J. Brandt   23       84\n",
      "6        M. Akanji   23       83\n",
      "7     Paco Alcácer   25       83\n",
      "8         M. Götze   27       82\n",
      "9       T. Delaney   27       82\n",
      "10       N. Schulz   26       82\n",
      "11       T. Hazard   26       82\n",
      "12    R. Guerreiro   25       81\n",
      "13     L. Piszczek   34       81\n",
      "14        J. Weigl   23       80\n",
      "15       A. Hakimi   20       79\n",
      "16      D. Zagadou   20       79\n",
      "17       M. Dahoud   23       78\n",
      "18         M. Hitz   31       78\n",
      "19    M. Schmelzer   31       76\n",
      "20       J. Larsen   20       75\n",
      "21       J. Larsen   28       75\n",
      "22         M. Wolf   24       75\n",
      "23  E. Oelschlägel   23       65\n",
      "24     Mateu Morey   19       64\n",
      "25      L. Balerdi   20       64\n",
      "26       T. Raschl   19       60\n",
      "27       D. Wanner   20       60\n",
      "28     K. Bafounta   17       59\n",
      "29     L. Unbehaun   18       59\n",
      "30        A. Bakir   18       58\n",
      "31    P. Osterhage   19       57\n"
     ]
    }
   ],
   "source": [
    "#Recreate the fifth query with pandas\n",
    "\n",
    "fifa_club = fifa_club.loc[fifa_club[\"club\"] == \"Borussia Dortmund\"]\n",
    "df = pd.merge(player_values, fifa_club, on='short_name', how='inner')\n",
    "df = df[[\"short_name\", \"age\", \"overall\"]]\n",
    "\n",
    "print(df)"
   ]
  },
  {
   "cell_type": "code",
   "execution_count": null,
   "metadata": {},
   "outputs": [],
   "source": []
  }
 ],
 "metadata": {
  "kernelspec": {
   "display_name": "Python 3 (ipykernel)",
   "language": "python",
   "name": "python3"
  },
  "language_info": {
   "codemirror_mode": {
    "name": "ipython",
    "version": 3
   },
   "file_extension": ".py",
   "mimetype": "text/x-python",
   "name": "python",
   "nbconvert_exporter": "python",
   "pygments_lexer": "ipython3",
   "version": "3.9.7"
  }
 },
 "nbformat": 4,
 "nbformat_minor": 4
}
